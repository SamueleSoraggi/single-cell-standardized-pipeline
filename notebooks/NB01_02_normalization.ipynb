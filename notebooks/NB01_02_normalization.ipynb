{
 "cells": [
  {
   "cell_type": "markdown",
   "metadata": {},
   "source": [
    "***Import libraires and data, set up stuff***"
   ]
  },
  {
   "cell_type": "code",
   "execution_count": 1,
   "metadata": {},
   "outputs": [],
   "source": [
    "%run ../analysisLibraries"
   ]
  },
  {
   "cell_type": "code",
   "execution_count": 2,
   "metadata": {},
   "outputs": [],
   "source": [
    "%matplotlib inline"
   ]
  },
  {
   "cell_type": "code",
   "execution_count": 3,
   "metadata": {},
   "outputs": [],
   "source": [
    "%load_ext rpy2.ipython"
   ]
  },
  {
   "cell_type": "code",
   "execution_count": 4,
   "metadata": {},
   "outputs": [],
   "source": [
    "import scanpySupport as scs"
   ]
  },
  {
   "cell_type": "code",
   "execution_count": 5,
   "metadata": {},
   "outputs": [],
   "source": [
    "#for later automatization\n",
    "#from os import environ\n",
    "#n_genes = int( environ['n_genes'] ) #number of genes for normalization\n",
    "#data_model_sct = str( environ['data_model_sct'] ) #model for data scTransform: 'nb' 'poisson'\n",
    "#regul_mode = str( environ['regul_mode'] ) #regularization type for sct: 'std' 'latent' 'latent_nonreg'\n",
    "#cores = int( environ['cores'] )\n",
    "#if regul_mode=='std':\n",
    "#    reg = 0\n",
    "#elif regul_mode=='latent':\n",
    "#    reg = 1\n",
    "#else:\n",
    "#    reg = 2\n",
    "#reg=int(reg)"
   ]
  },
  {
   "source": [
    "Load data. This example opens only one dataset, but if you have more than one preprocessed in the first notebook, then load them and do a concatenation before proceeding to scTransform normalization"
   ],
   "cell_type": "markdown",
   "metadata": {}
  },
  {
   "cell_type": "code",
   "execution_count": 5,
   "metadata": {},
   "outputs": [],
   "source": [
    "adata_flt = sc.read('./write/qc/adata_05.h5ad')\n",
    "#open more datasewts if anu"
   ]
  },
  {
   "source": [
    "Run scTransfrom. Choose cores and memory to be used per core. eventually add latent variables to regress out, for example with the option\n",
    "\n",
    "`latent=['total_counts','n_genes_by_counts']`\n",
    "\n",
    "If you have loaded and concatenated more than one dataset after the first notebook, then use the option to keep batches into account, for example\n",
    "\n",
    "`batch='batch'`.\n",
    "\n",
    "Note that if batches are very similar or have some differing cell types, considering batches can sometimes mess it up. Eventually run everything again without considering batches and look into the resulting umap for an idea of how things worked"
   ],
   "cell_type": "markdown",
   "metadata": {}
  },
  {
   "cell_type": "code",
   "execution_count": 6,
   "metadata": {},
   "outputs": [
    {
     "name": "stdout",
     "output_type": "stream",
     "text": [
      "Filtering genes\n",
      "Configure future multithreading\n",
      "Run scTransform\n",
      "Running the command: vst_out=vst( as.matrix(rawMatrix), cell_attr=cell_df, n_genes=genes, method=method, show_progress=TRUE, min_cells=min_genes_per_cell, return_corrected_umi=TRUE, latent_var=c(\"data.scaled_CDR\"))\n",
      "  |======================================================================| 100%\n",
      "  |======================================================================| 100%\n",
      "  |======================================================================| 100%\n",
      "Extract results\n"
     ]
    }
   ],
   "source": [
    "adata_flt = scs.pp.sctransform(adata=adata_flt,                    genes=5000, \n",
    "                   cores=4, memory=50,\n",
    "                   method='poisson',\n",
    "                   verbose=False)"
   ]
  },
  {
   "cell_type": "code",
   "execution_count": null,
   "metadata": {},
   "outputs": [],
   "source": [
    "!mkdir -p write/norm"
   ]
  },
  {
   "cell_type": "code",
   "execution_count": 7,
   "metadata": {},
   "outputs": [],
   "source": [
    "adata_flt.write('./write/norm/adata_01.h5ad')"
   ]
  },
  {
   "cell_type": "markdown",
   "metadata": {},
   "source": [
    "GLMpca on the data and normal PCA with UMAP plots for comparison. In general glmpca is pretty good, but very often standard pca works as well fine"
   ]
  },
  {
   "cell_type": "code",
   "execution_count": 17,
   "metadata": {},
   "outputs": [],
   "source": [
    "adata_flt = sc.read('./write/norm/adata_01.h5ad')"
   ]
  },
  {
   "cell_type": "code",
   "execution_count": 8,
   "metadata": {},
   "outputs": [],
   "source": [
    "adata_flt.X = adata_flt.layers['norm_sct'].copy()"
   ]
  },
  {
   "cell_type": "code",
   "execution_count": 9,
   "metadata": {},
   "outputs": [
    {
     "data": {
      "image/png": "[encoded data removed]",
      "text/plain": [
       "<Figure size 432x288 with 1 Axes>"
      ]
     },
     "metadata": {
      "needs_background": "light"
     },
     "output_type": "display_data"
    }
   ],
   "source": [
    "sc.pp.scale(adata_flt)\n",
    "sc.pp.pca(adata_flt, svd_solver='arpack')\n",
    "sc.pl.pca_variance_ratio(adata_flt)"
   ]
  },
  {
   "cell_type": "code",
   "execution_count": 10,
   "metadata": {},
   "outputs": [],
   "source": [
    "#standard PCA\n",
    "adata_flt.obsm['X_pca_std'] = adata_flt.obsm['X_pca'].copy()\n",
    "sc.pp.neighbors(adata_flt, n_pcs=15)\n",
    "sc.tl.umap(adata_flt)"
   ]
  },
  {
   "cell_type": "code",
   "execution_count": null,
   "metadata": {},
   "outputs": [],
   "source": [
    "sc.pl.umap(adata_flt)"
   ]
  },
  {
   "cell_type": "code",
   "execution_count": 15,
   "metadata": {},
   "outputs": [],
   "source": [
    "adata_flt.write('./write/norm/adata_02.h5ad')"
   ]
  },
  {
   "cell_type": "markdown",
   "metadata": {},
   "source": [
    "### GLMPCA with batch covariate"
   ]
  },
  {
   "cell_type": "code",
   "execution_count": 16,
   "metadata": {},
   "outputs": [],
   "source": [
    "adata_flt = sc.read('./write/norm/adata_02.h5ad')"
   ]
  },
  {
   "cell_type": "code",
   "execution_count": 17,
   "metadata": {},
   "outputs": [],
   "source": [
    "#use only HVGs or it takes ages to run with more or less similar results but more noisy\n",
    "adata_glmpca = adata_flt[:,adata_flt.var['highly_variable']].copy()"
   ]
  },
  {
   "cell_type": "code",
   "execution_count": 33,
   "metadata": {},
   "outputs": [],
   "source": [
    "#here you can define important covariates. For categories, rename covariates into integers by creating an array (as in batchVec below for batch categories). Create an array (X_glm) with as many columns as needed covariates, and put the arrays as columns.\n",
    "\n",
    "#batchVec = np.asarray(adata_glmpca.obs['batch'])\n",
    "#batchVec[batchVec=='PLA_1'] = 0\n",
    "#batchVec[batchVec=='PLA_2'] = 1\n",
    "#X_glm = np.zeros((adata_glmpca.shape[0],1))\n",
    "#X_glm[:,0] = batchVec\n",
    "\n",
    "#Use the option X=X_glm in `glmpca.glmpca`."
   ]
  },
  {
   "cell_type": "code",
   "execution_count": 18,
   "metadata": {},
   "outputs": [],
   "source": [
    "Y = adata_glmpca.layers['umi_corr'].T.todense().copy()\n",
    "Y = np.asarray(Y)\n",
    "from glmpca import glmpca\n",
    "try:\n",
    "    res = glmpca.glmpca(Y, 15, penalty=1)\n",
    "    factors = res[\"factors\"]\n",
    "    adata_glmpca.obsm['X_glmpca']=factors\n",
    "    adata_glmpca.obsm['X_pca']=factors\n",
    "    adata_flt.obsm['X_glmpca'] =        adata_glmpca.obsm['X_glmpca'].copy()\n",
    "except: #if glmpca does not converge, use just pca\n",
    "    print(\"glmpca failed. Try with higher penalty, or removing/adding important covariates, or look at how classical pca is working.\")\n",
    "    sc.pp.pca(adata_glmpca, svd_solver='arpack')"
   ]
  },
  {
   "cell_type": "code",
   "execution_count": 19,
   "metadata": {},
   "outputs": [
    {
     "data": {
      "image/png": "[encoded data removed]",
      "text/plain": [
       "<Figure size 432x288 with 1 Axes>"
      ]
     },
     "metadata": {},
     "output_type": "display_data"
    }
   ],
   "source": [
    "#if you have batches, use the function\n",
    "#sc.external.pp.bbknn(adata_glmpca) to calculate neighbourhood. You have to install bbknn.\n",
    "sc.pp.neighbors(adata_glmpca) \n",
    "sc.tl.umap(adata_glmpca)\n",
    "sc.pl.umap(adata_glmpca)"
   ]
  },
  {
   "cell_type": "code",
   "execution_count": 20,
   "metadata": {},
   "outputs": [],
   "source": [
    "adata_flt.write('./write/norm/adata_03.h5ad')"
   ]
  }
 ],
 "metadata": {
  "kernelspec": {
   "display_name": "Python 3",
   "language": "python",
   "name": "python3"
  },
  "language_info": {
   "codemirror_mode": {
    "name": "ipython",
    "version": 3
   },
   "file_extension": ".py",
   "mimetype": "text/x-python",
   "name": "python",
   "nbconvert_exporter": "python",
   "pygments_lexer": "ipython3",
   "version": "3.7.3"
  }
 },
 "nbformat": 4,
 "nbformat_minor": 2
}